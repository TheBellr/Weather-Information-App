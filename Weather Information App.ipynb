{
 "cells": [
  {
   "cell_type": "markdown",
   "id": "637c8ef8-08b3-4012-bb27-c13d2746bb29",
   "metadata": {},
   "source": [
    "# Weather Information App\n",
    "\n",
    "Build a program that provides weather information for different cities. Use a dictionary to store the city names as keys and corresponding weather details (temperature, conditions, etc.) as values. Implement control flow to allow users to select a city and view its current weather."
   ]
  },
  {
   "cell_type": "code",
   "execution_count": null,
   "id": "e6448322-10a4-4e91-9666-c10db319fa45",
   "metadata": {},
   "outputs": [],
   "source": [
    "weather_info = {\n",
    "        'PORT HARCOURT': {'temperature': 15, 'conditions': 'Partly Cloudy'},\n",
    "        'ABUJA': {'temperature': 10, 'conditions': 'Rainy'},\n",
    "        'LAGOS': {'temperature': 20, 'conditions': 'Sunny'},\n",
    "        'IBADAN': {'temperature': 25, 'conditions': 'Clear Sky'},\n",
    " }\n",
    "city = input(\"Enter the name of your city: \").upper()\n",
    "print ()\n",
    "if city in weather_info:\n",
    "        print(\"Weather in: \" + city)\n",
    "        print(\"Temperature: \" + str(weather_info[city]['temperature'] )+ \"°C\")\n",
    "        print(\"Conditions: \" + str(weather_info[city]['conditions']))\n",
    "else:\n",
    "        print(\"Weather information not available for: \" + city )\n",
    "        print(\"Available Cities:\" )\n",
    "for keys in weather_info:\n",
    "    if city not in weather_info:\n",
    "        print(keys)"
   ]
  }
 ],
 "metadata": {
  "kernelspec": {
   "display_name": "Python 3 (ipykernel)",
   "language": "python",
   "name": "python3"
  },
  "language_info": {
   "codemirror_mode": {
    "name": "ipython",
    "version": 3
   },
   "file_extension": ".py",
   "mimetype": "text/x-python",
   "name": "python",
   "nbconvert_exporter": "python",
   "pygments_lexer": "ipython3",
   "version": "3.11.5"
  }
 },
 "nbformat": 4,
 "nbformat_minor": 5
}
